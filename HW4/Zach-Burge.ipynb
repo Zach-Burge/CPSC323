{
 "cells": [
  {
   "cell_type": "code",
   "execution_count": 2,
   "metadata": {},
   "outputs": [
    {
     "name": "stdout",
     "output_type": "stream",
     "text": [
      "[]\n",
      "[]\n",
      "[1, 3, 4]\n",
      "[2]\n",
      "4\n"
     ]
    },
    {
     "ename": "KeyboardInterrupt",
     "evalue": "",
     "output_type": "error",
     "traceback": [
      "\u001b[0;31m---------------------------------------------------------------------------\u001b[0m",
      "\u001b[0;31mKeyboardInterrupt\u001b[0m                         Traceback (most recent call last)",
      "\u001b[1;32m/Users/burgefamily/CPSC323/HW4/Zach-Burge.ipynb Cell 1\u001b[0m in \u001b[0;36m<cell line: 8>\u001b[0;34m()\u001b[0m\n\u001b[1;32m      <a href='vscode-notebook-cell:/Users/burgefamily/CPSC323/HW4/Zach-Burge.ipynb#W0sZmlsZQ%3D%3D?line=5'>6</a>\u001b[0m \u001b[39mprint\u001b[39m(\u001b[39mlen\u001b[39m(blocks_world\u001b[39m.\u001b[39mgrid))\n\u001b[1;32m      <a href='vscode-notebook-cell:/Users/burgefamily/CPSC323/HW4/Zach-Burge.ipynb#W0sZmlsZQ%3D%3D?line=6'>7</a>\u001b[0m start_time \u001b[39m=\u001b[39m datetime\u001b[39m.\u001b[39mdatetime\u001b[39m.\u001b[39mnow()\n\u001b[0;32m----> <a href='vscode-notebook-cell:/Users/burgefamily/CPSC323/HW4/Zach-Burge.ipynb#W0sZmlsZQ%3D%3D?line=7'>8</a>\u001b[0m blocks_world\u001b[39m.\u001b[39;49msolve()\n\u001b[1;32m      <a href='vscode-notebook-cell:/Users/burgefamily/CPSC323/HW4/Zach-Burge.ipynb#W0sZmlsZQ%3D%3D?line=8'>9</a>\u001b[0m end_time \u001b[39m=\u001b[39m datetime\u001b[39m.\u001b[39mdatetime\u001b[39m.\u001b[39mnow() \u001b[39m-\u001b[39m start_time\n\u001b[1;32m     <a href='vscode-notebook-cell:/Users/burgefamily/CPSC323/HW4/Zach-Burge.ipynb#W0sZmlsZQ%3D%3D?line=9'>10</a>\u001b[0m \u001b[39mprint\u001b[39m(\u001b[39m\"\u001b[39m\u001b[39mTime elapsed to solve this blocks world:\u001b[39m\u001b[39m\"\u001b[39m, end_time)\n",
      "File \u001b[0;32m~/CPSC323/HW4/game.py:60\u001b[0m, in \u001b[0;36mGame.solve\u001b[0;34m(self)\u001b[0m\n\u001b[1;32m     58\u001b[0m low_state \u001b[39m=\u001b[39m \u001b[39mself\u001b[39m\u001b[39m.\u001b[39mgrid\n\u001b[1;32m     59\u001b[0m \u001b[39mwhile\u001b[39;00m(\u001b[39mself\u001b[39m\u001b[39m.\u001b[39mis_solved(low_state) \u001b[39m==\u001b[39m \u001b[39mFalse\u001b[39;00m):\n\u001b[0;32m---> 60\u001b[0m     low_state \u001b[39m=\u001b[39m \u001b[39mself\u001b[39;49m\u001b[39m.\u001b[39;49mmove_blocks()\n\u001b[1;32m     61\u001b[0m     moves \u001b[39m+\u001b[39m\u001b[39m=\u001b[39m \u001b[39m1\u001b[39m\n\u001b[1;32m     62\u001b[0m \u001b[39mprint\u001b[39m(\u001b[39m\"\u001b[39m\u001b[39mBlocks world solved in\u001b[39m\u001b[39m\"\u001b[39m, moves, \u001b[39m\"\u001b[39m\u001b[39mmoves.\u001b[39m\u001b[39m\"\u001b[39m)\n",
      "File \u001b[0;32m~/CPSC323/HW4/game.py:47\u001b[0m, in \u001b[0;36mGame.move_blocks\u001b[0;34m(self)\u001b[0m\n\u001b[1;32m     45\u001b[0m best_moves \u001b[39m=\u001b[39m []\n\u001b[1;32m     46\u001b[0m \u001b[39mfor\u001b[39;00m move \u001b[39min\u001b[39;00m all_moves:\n\u001b[0;32m---> 47\u001b[0m     h \u001b[39m=\u001b[39m \u001b[39mself\u001b[39;49m\u001b[39m.\u001b[39;49mcalculate_h()\n\u001b[1;32m     48\u001b[0m     \u001b[39mif\u001b[39;00m h \u001b[39m<\u001b[39m low_h:\n\u001b[1;32m     49\u001b[0m         low_h \u001b[39m=\u001b[39m h\n",
      "File \u001b[0;32m~/CPSC323/HW4/game.py:77\u001b[0m, in \u001b[0;36mGame.calculate_h\u001b[0;34m(self)\u001b[0m\n\u001b[1;32m     75\u001b[0m     h \u001b[39m+\u001b[39m\u001b[39m=\u001b[39m \u001b[39m1\u001b[39m\n\u001b[1;32m     76\u001b[0m i \u001b[39m=\u001b[39m \u001b[39m1\u001b[39m\n\u001b[0;32m---> 77\u001b[0m \u001b[39mwhile\u001b[39;00m i \u001b[39m<\u001b[39m \u001b[39mlen\u001b[39m(\u001b[39mself\u001b[39m\u001b[39m.\u001b[39mgrid[row]):\n\u001b[1;32m     78\u001b[0m     \u001b[39mif\u001b[39;00m \u001b[39mself\u001b[39m\u001b[39m.\u001b[39mgrid[row][i] \u001b[39m>\u001b[39m \u001b[39mself\u001b[39m\u001b[39m.\u001b[39mgrid[row][i\u001b[39m-\u001b[39m\u001b[39m1\u001b[39m]:\n\u001b[1;32m     79\u001b[0m         h \u001b[39m+\u001b[39m\u001b[39m=\u001b[39m \u001b[39m1\u001b[39m\n",
      "\u001b[0;31mKeyboardInterrupt\u001b[0m: "
     ]
    }
   ],
   "source": [
    "import datetime\n",
    "from game import Game\n",
    "blocks_world = Game(4)\n",
    "blocks_world.setup_blocks()\n",
    "blocks_world.show_grid()\n",
    "print(len(blocks_world.grid))\n",
    "start_time = datetime.datetime.now()\n",
    "blocks_world.solve()\n",
    "end_time = datetime.datetime.now() - start_time\n",
    "print(\"Time elapsed to solve this blocks world:\", end_time)\n",
    "blocks_world.show_grid()"
   ]
  }
 ],
 "metadata": {
  "kernelspec": {
   "display_name": "Python 3.10.6 64-bit",
   "language": "python",
   "name": "python3"
  },
  "language_info": {
   "codemirror_mode": {
    "name": "ipython",
    "version": 3
   },
   "file_extension": ".py",
   "mimetype": "text/x-python",
   "name": "python",
   "nbconvert_exporter": "python",
   "pygments_lexer": "ipython3",
   "version": "3.10.6"
  },
  "orig_nbformat": 4,
  "vscode": {
   "interpreter": {
    "hash": "aee8b7b246df8f9039afb4144a1f6fd8d2ca17a180786b69acc140d282b71a49"
   }
  }
 },
 "nbformat": 4,
 "nbformat_minor": 2
}
