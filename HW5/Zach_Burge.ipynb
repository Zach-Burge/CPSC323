{
 "cells": [
  {
   "cell_type": "code",
   "execution_count": 14,
   "metadata": {},
   "outputs": [
    {
     "name": "stdout",
     "output_type": "stream",
     "text": [
      "Time elapsed for fit: 0.022796154022216797 seconds\n",
      "Time elapsed for predict: 0.0013859272003173828 seconds\n",
      "\n"
     ]
    }
   ],
   "source": [
    "import pandas as p\n",
    "import time\n",
    "from sklearn.linear_model import LogisticRegression\n",
    "from sklearn.model_selection import train_test_split\n",
    "from sklearn import metrics\n",
    "\n",
    "df = p.read_csv(\"titanic.csv\");\n",
    "df = df.drop(columns=['Name'])\n",
    "df = df.drop(columns=['Ticket', 'Fare', 'Cabin', 'Embarked'])\n",
    "df = df.dropna()\n",
    "df['Sex'] = df['Sex'].replace(['male'], 1)\n",
    "df['Sex'] = df['Sex'].replace(['female'], 0)\n",
    "\n",
    "X_train, X_test, y_train, y_test = train_test_split(df.drop('Survived', axis=1), df['Survived'], test_size=0.33)\n",
    "\n",
    "logistic_model = LogisticRegression(max_iter=1000)\n",
    "start_t = time.time()\n",
    "logistic_model.fit(X_train, y_train)\n",
    "print(\"Time elapsed for fit:\", time.time() - start_t, \"seconds\")\n",
    "start_t = time.time()\n",
    "preds = logistic_model.predict(X_test)\n",
    "print(\"Time elapsed for predict:\", time.time() - start_t, \"seconds\\n\")"
   ]
  },
  {
   "cell_type": "markdown",
   "metadata": {},
   "source": [
    "***Scores for Logistic Regression Model***"
   ]
  },
  {
   "cell_type": "code",
   "execution_count": 15,
   "metadata": {},
   "outputs": [
    {
     "name": "stdout",
     "output_type": "stream",
     "text": [
      "Accuracy: 0.8050847457627118\n",
      "Precision: 0.7558139534883721\n",
      "Recall: 0.7222222222222222\n",
      "F1-score: 0.7386363636363636\n",
      "\n",
      "Confusion Matrix\n",
      "[[125  21]\n",
      " [ 25  65]]\n"
     ]
    }
   ],
   "source": [
    "accuracy = logistic_model.score(X_test, y_test)\n",
    "print(\"Accuracy:\", accuracy)\n",
    "precision = metrics.precision_score(y_test, preds)\n",
    "print(\"Precision:\", precision)\n",
    "recall = metrics.recall_score(y_test, preds)\n",
    "print(\"Recall:\", recall)\n",
    "f1 = metrics.f1_score(y_test, preds)\n",
    "print(\"F1-score:\", f1)\n",
    "print()\n",
    "print(\"Confusion Matrix\")\n",
    "cm = metrics.confusion_matrix(y_test, preds)\n",
    "print(cm)"
   ]
  }
 ],
 "metadata": {
  "kernelspec": {
   "display_name": "Python 3.10.6 64-bit",
   "language": "python",
   "name": "python3"
  },
  "language_info": {
   "codemirror_mode": {
    "name": "ipython",
    "version": 3
   },
   "file_extension": ".py",
   "mimetype": "text/x-python",
   "name": "python",
   "nbconvert_exporter": "python",
   "pygments_lexer": "ipython3",
   "version": "3.10.6"
  },
  "orig_nbformat": 4,
  "vscode": {
   "interpreter": {
    "hash": "aee8b7b246df8f9039afb4144a1f6fd8d2ca17a180786b69acc140d282b71a49"
   }
  }
 },
 "nbformat": 4,
 "nbformat_minor": 2
}
