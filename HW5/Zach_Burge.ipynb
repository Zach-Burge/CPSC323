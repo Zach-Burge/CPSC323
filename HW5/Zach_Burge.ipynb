{
 "cells": [
  {
   "cell_type": "code",
   "execution_count": 24,
   "metadata": {},
   "outputs": [
    {
     "name": "stderr",
     "output_type": "stream",
     "text": [
      "/Library/Frameworks/Python.framework/Versions/3.10/lib/python3.10/site-packages/sklearn/linear_model/_logistic.py:444: ConvergenceWarning: lbfgs failed to converge (status=1):\n",
      "STOP: TOTAL NO. of ITERATIONS REACHED LIMIT.\n",
      "\n",
      "Increase the number of iterations (max_iter) or scale the data as shown in:\n",
      "    https://scikit-learn.org/stable/modules/preprocessing.html\n",
      "Please also refer to the documentation for alternative solver options:\n",
      "    https://scikit-learn.org/stable/modules/linear_model.html#logistic-regression\n",
      "  n_iter_i = _check_optimize_result(\n"
     ]
    }
   ],
   "source": [
    "import pandas as p\n",
    "from sklearn.linear_model import LogisticRegression\n",
    "from sklearn.model_selection import train_test_split\n",
    "import helpers\n",
    "\n",
    "stroke_df = p.read_csv(\"full_data.csv\");\n",
    "stroke_df['gender'] = stroke_df['gender'].replace(['Male'], 1)\n",
    "stroke_df['gender'] = stroke_df['gender'].replace(['Female'], 0)\n",
    "stroke_df['ever_married'] = stroke_df['ever_married'].replace(['Yes'], 1)\n",
    "stroke_df['ever_married'] = stroke_df['ever_married'].replace(['No'], 0)\n",
    "stroke_df['work_type'] = stroke_df['work_type'].replace(['Private'], 0)\n",
    "stroke_df['work_type'] = stroke_df['work_type'].replace(['Self-employed'], 1)\n",
    "stroke_df['work_type'] = stroke_df['work_type'].replace(['Govt_job'], 2)\n",
    "stroke_df['work_type'] = stroke_df['work_type'].replace(['Never_worked'], 3)\n",
    "stroke_df['work_type'] = stroke_df['work_type'].replace(['children'], 4)\n",
    "stroke_df['Residence_type'] = stroke_df['Residence_type'].replace(['Urban'], 0)\n",
    "stroke_df['Residence_type'] = stroke_df['Residence_type'].replace(['Rural'], 1)\n",
    "stroke_df['smoking_status'] = stroke_df['smoking_status'].replace(['formerly smoked'], 0)\n",
    "stroke_df['smoking_status'] = stroke_df['smoking_status'].replace(['never smoked'], 1)\n",
    "stroke_df['smoking_status'] = stroke_df['smoking_status'].replace(['smokes'], 2)\n",
    "stroke_df['smoking_status'] = stroke_df['smoking_status'].replace(['Unknown'], 3)\n",
    "\n",
    "X_train, X_test, y_train, y_test = train_test_split(stroke_df.drop('stroke', axis=1), stroke_df['stroke'], test_size=0.33)\n",
    "\n",
    "logistic_model = LogisticRegression()\n",
    "logistic_model.fit(X_train, y_train)\n",
    "preds = logistic_model.predict(X_test)\n"
   ]
  },
  {
   "cell_type": "code",
   "execution_count": null,
   "metadata": {},
   "outputs": [],
   "source": []
  }
 ],
 "metadata": {
  "kernelspec": {
   "display_name": "Python 3.10.6 64-bit",
   "language": "python",
   "name": "python3"
  },
  "language_info": {
   "codemirror_mode": {
    "name": "ipython",
    "version": 3
   },
   "file_extension": ".py",
   "mimetype": "text/x-python",
   "name": "python",
   "nbconvert_exporter": "python",
   "pygments_lexer": "ipython3",
   "version": "3.10.6"
  },
  "orig_nbformat": 4,
  "vscode": {
   "interpreter": {
    "hash": "aee8b7b246df8f9039afb4144a1f6fd8d2ca17a180786b69acc140d282b71a49"
   }
  }
 },
 "nbformat": 4,
 "nbformat_minor": 2
}
