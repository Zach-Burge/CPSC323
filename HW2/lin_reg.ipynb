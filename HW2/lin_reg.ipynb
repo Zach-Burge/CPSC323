{
 "cells": [
  {
   "cell_type": "code",
   "execution_count": 3,
   "metadata": {},
   "outputs": [],
   "source": [
    "import importlib\n",
    "from table import Table\n",
    "from linear_regressor import LinearRegressorModel\n",
    "import evaluations\n",
    "import discretizers\n",
    "import datetime"
   ]
  },
  {
   "cell_type": "code",
   "execution_count": 4,
   "metadata": {},
   "outputs": [
    {
     "name": "stdout",
     "output_type": "stream",
     "text": [
      "Slope: -0.003913673608643808\n",
      "Intercept: 0.05207328833172607\n"
     ]
    }
   ],
   "source": [
    "stroke_data_table = Table()\n",
    "stroke_data_table.load_file(\"full_data.csv\")\n",
    "lin_reg = LinearRegressorModel()\n",
    "attr_headers = [\"gender\", \"age\", \"hypertension\", \"heart_disease\", \"ever_married\", \"work_type\", \"Residence_type\", \"avg_glucose_level\", \"bmi\", \"smoking_status\"]\n",
    "\n",
    "new_gender = discretizers.discretize_gender(stroke_data_table.get_column(0))\n",
    "discretizers.replace_col_vals(stroke_data_table, new_gender, \"gender\")\n",
    "\n",
    "new_married = discretizers.discretize_married(stroke_data_table.get_column(4))\n",
    "discretizers.replace_col_vals(stroke_data_table, new_married, \"ever_married\")\n",
    "\n",
    "new_work_type = discretizers.discretize_work_type(stroke_data_table.get_column(5))\n",
    "discretizers.replace_col_vals(stroke_data_table, new_work_type, \"work_type\")\n",
    "\n",
    "new_residence_type = discretizers.discretize_residence_type(stroke_data_table.get_column(6))\n",
    "discretizers.replace_col_vals(stroke_data_table, new_residence_type, \"Residence_type\")\n",
    "\n",
    "new_smoking_status = discretizers.discretize_smoking_status(stroke_data_table.get_column(-2))\n",
    "discretizers.replace_col_vals(stroke_data_table, new_smoking_status, \"smoking_status\")\n",
    "\n",
    "stroke_data_table.convert_to_numeric(stroke_data_table.column_names)\n",
    "attr_data = stroke_data_table.make_sub_table(stroke_data_table, attr_headers)\n",
    "class_labels = stroke_data_table.get_column(-1)\n",
    "\n",
    "lin_reg.fit(attr_data, class_labels)\n",
    "print(\"Slope:\", lin_reg.slope)\n",
    "print(\"Intercept:\", lin_reg.intercept)\n"
   ]
  },
  {
   "cell_type": "code",
   "execution_count": null,
   "metadata": {},
   "outputs": [],
   "source": [
    "lin_reg.predict()"
   ]
  }
 ],
 "metadata": {
  "interpreter": {
   "hash": "aee8b7b246df8f9039afb4144a1f6fd8d2ca17a180786b69acc140d282b71a49"
  },
  "kernelspec": {
   "display_name": "Python 3.10.6 64-bit",
   "language": "python",
   "name": "python3"
  },
  "language_info": {
   "codemirror_mode": {
    "name": "ipython",
    "version": 3
   },
   "file_extension": ".py",
   "mimetype": "text/x-python",
   "name": "python",
   "nbconvert_exporter": "python",
   "pygments_lexer": "ipython3",
   "version": "3.10.6"
  },
  "orig_nbformat": 4
 },
 "nbformat": 4,
 "nbformat_minor": 2
}
