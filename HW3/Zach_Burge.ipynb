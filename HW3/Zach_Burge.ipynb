{
 "cells": [
  {
   "cell_type": "markdown",
   "metadata": {},
   "source": [
    "Zach Burge  \n",
    "CPSC 323  \n",
    "HW3 - Blocks World  \n",
    "Graham Morehead   "
   ]
  },
  {
   "cell_type": "code",
   "execution_count": 13,
   "metadata": {},
   "outputs": [
    {
     "name": "stdout",
     "output_type": "stream",
     "text": [
      "[ ]\n",
      "[ ]\n",
      "[ 4 9 ]\n",
      "[ ]\n",
      "[ 1 ]\n",
      "[ ]\n",
      "[ 5 6 ]\n",
      "[ 2 7 ]\n",
      "[ 3 8 ]\n",
      "\n"
     ]
    },
    {
     "ename": "KeyboardInterrupt",
     "evalue": "",
     "output_type": "error",
     "traceback": [
      "\u001b[0;31m---------------------------------------------------------------------------\u001b[0m",
      "\u001b[0;31mKeyboardInterrupt\u001b[0m                         Traceback (most recent call last)",
      "\u001b[1;32m/Users/burgefamily/CPSC323/HW3/Zach_Burge.ipynb Cell 2\u001b[0m in \u001b[0;36m<cell line: 7>\u001b[0;34m()\u001b[0m\n\u001b[1;32m      <a href='vscode-notebook-cell:/Users/burgefamily/CPSC323/HW3/Zach_Burge.ipynb#W1sZmlsZQ%3D%3D?line=4'>5</a>\u001b[0m blocks_world\u001b[39m.\u001b[39mshow_grid()\n\u001b[1;32m      <a href='vscode-notebook-cell:/Users/burgefamily/CPSC323/HW3/Zach_Burge.ipynb#W1sZmlsZQ%3D%3D?line=5'>6</a>\u001b[0m start_time \u001b[39m=\u001b[39m datetime\u001b[39m.\u001b[39mdatetime\u001b[39m.\u001b[39mnow()\n\u001b[0;32m----> <a href='vscode-notebook-cell:/Users/burgefamily/CPSC323/HW3/Zach_Burge.ipynb#W1sZmlsZQ%3D%3D?line=6'>7</a>\u001b[0m blocks_world\u001b[39m.\u001b[39;49msolve()\n\u001b[1;32m      <a href='vscode-notebook-cell:/Users/burgefamily/CPSC323/HW3/Zach_Burge.ipynb#W1sZmlsZQ%3D%3D?line=7'>8</a>\u001b[0m end_time \u001b[39m=\u001b[39m datetime\u001b[39m.\u001b[39mdatetime\u001b[39m.\u001b[39mnow() \u001b[39m-\u001b[39m start_time\n\u001b[1;32m      <a href='vscode-notebook-cell:/Users/burgefamily/CPSC323/HW3/Zach_Burge.ipynb#W1sZmlsZQ%3D%3D?line=8'>9</a>\u001b[0m \u001b[39mprint\u001b[39m(\u001b[39m\"\u001b[39m\u001b[39mTime elapsed to solve this blocks world:\u001b[39m\u001b[39m\"\u001b[39m, end_time)\n",
      "File \u001b[0;32m~/CPSC323/HW3/game.py:51\u001b[0m, in \u001b[0;36mGame.solve\u001b[0;34m(self)\u001b[0m\n\u001b[1;32m     49\u001b[0m moves \u001b[39m=\u001b[39m \u001b[39m0\u001b[39m\n\u001b[1;32m     50\u001b[0m \u001b[39mwhile\u001b[39;00m(\u001b[39mself\u001b[39m\u001b[39m.\u001b[39mis_solved() \u001b[39m==\u001b[39m \u001b[39mFalse\u001b[39;00m):\n\u001b[0;32m---> 51\u001b[0m     \u001b[39mself\u001b[39;49m\u001b[39m.\u001b[39;49mmove_blocks()\n\u001b[1;32m     52\u001b[0m     moves \u001b[39m+\u001b[39m\u001b[39m=\u001b[39m \u001b[39m1\u001b[39m\n\u001b[1;32m     53\u001b[0m \u001b[39mprint\u001b[39m(\u001b[39m\"\u001b[39m\u001b[39mBlocks world solved in\u001b[39m\u001b[39m\"\u001b[39m, moves, \u001b[39m\"\u001b[39m\u001b[39mmoves.\u001b[39m\u001b[39m\"\u001b[39m)\n",
      "File \u001b[0;32m~/CPSC323/HW3/game.py:40\u001b[0m, in \u001b[0;36mGame.move_blocks\u001b[0;34m(self)\u001b[0m\n\u001b[1;32m     38\u001b[0m found \u001b[39m=\u001b[39m \u001b[39mFalse\u001b[39;00m\n\u001b[1;32m     39\u001b[0m \u001b[39mwhile\u001b[39;00m \u001b[39mnot\u001b[39;00m found:\n\u001b[0;32m---> 40\u001b[0m     rand_loc \u001b[39m=\u001b[39m random\u001b[39m.\u001b[39;49mrandrange(\u001b[39mself\u001b[39;49m\u001b[39m.\u001b[39;49mnum_blocks)\n\u001b[1;32m     41\u001b[0m     \u001b[39mif\u001b[39;00m \u001b[39mself\u001b[39m\u001b[39m.\u001b[39mgrid[rand_loc] \u001b[39m!=\u001b[39m []:\n\u001b[1;32m     42\u001b[0m         found \u001b[39m=\u001b[39m \u001b[39mTrue\u001b[39;00m\n",
      "File \u001b[0;32m/Library/Frameworks/Python.framework/Versions/3.10/lib/python3.10/random.py:320\u001b[0m, in \u001b[0;36mRandom.randrange\u001b[0;34m(self, start, stop, step)\u001b[0m\n\u001b[1;32m    318\u001b[0m         \u001b[39mraise\u001b[39;00m \u001b[39mTypeError\u001b[39;00m(\u001b[39m'\u001b[39m\u001b[39mMissing a non-None stop argument\u001b[39m\u001b[39m'\u001b[39m)\n\u001b[1;32m    319\u001b[0m     \u001b[39mif\u001b[39;00m istart \u001b[39m>\u001b[39m \u001b[39m0\u001b[39m:\n\u001b[0;32m--> 320\u001b[0m         \u001b[39mreturn\u001b[39;00m \u001b[39mself\u001b[39;49m\u001b[39m.\u001b[39;49m_randbelow(istart)\n\u001b[1;32m    321\u001b[0m     \u001b[39mraise\u001b[39;00m \u001b[39mValueError\u001b[39;00m(\u001b[39m\"\u001b[39m\u001b[39mempty range for randrange()\u001b[39m\u001b[39m\"\u001b[39m)\n\u001b[1;32m    323\u001b[0m \u001b[39m# stop argument supplied.\u001b[39;00m\n",
      "File \u001b[0;32m/Library/Frameworks/Python.framework/Versions/3.10/lib/python3.10/random.py:246\u001b[0m, in \u001b[0;36mRandom._randbelow_with_getrandbits\u001b[0;34m(self, n)\u001b[0m\n\u001b[1;32m    244\u001b[0m getrandbits \u001b[39m=\u001b[39m \u001b[39mself\u001b[39m\u001b[39m.\u001b[39mgetrandbits\n\u001b[1;32m    245\u001b[0m k \u001b[39m=\u001b[39m n\u001b[39m.\u001b[39mbit_length()  \u001b[39m# don't use (n-1) here because n can be 1\u001b[39;00m\n\u001b[0;32m--> 246\u001b[0m r \u001b[39m=\u001b[39m getrandbits(k)  \u001b[39m# 0 <= r < 2**k\u001b[39;00m\n\u001b[1;32m    247\u001b[0m \u001b[39mwhile\u001b[39;00m r \u001b[39m>\u001b[39m\u001b[39m=\u001b[39m n:\n\u001b[1;32m    248\u001b[0m     r \u001b[39m=\u001b[39m getrandbits(k)\n",
      "\u001b[0;31mKeyboardInterrupt\u001b[0m: "
     ]
    }
   ],
   "source": [
    "import datetime\n",
    "from game import Game\n",
    "blocks_world = Game(9)\n",
    "blocks_world.setup_blocks()\n",
    "blocks_world.show_grid()\n",
    "start_time = datetime.datetime.now()\n",
    "blocks_world.solve()\n",
    "end_time = datetime.datetime.now() - start_time\n",
    "print(\"Time elapsed to solve this blocks world:\", end_time)\n",
    "blocks_world.show_grid()\n"
   ]
  }
 ],
 "metadata": {
  "kernelspec": {
   "display_name": "Python 3.10.6 64-bit",
   "language": "python",
   "name": "python3"
  },
  "language_info": {
   "codemirror_mode": {
    "name": "ipython",
    "version": 3
   },
   "file_extension": ".py",
   "mimetype": "text/x-python",
   "name": "python",
   "nbconvert_exporter": "python",
   "pygments_lexer": "ipython3",
   "version": "3.10.6"
  },
  "orig_nbformat": 4,
  "vscode": {
   "interpreter": {
    "hash": "aee8b7b246df8f9039afb4144a1f6fd8d2ca17a180786b69acc140d282b71a49"
   }
  }
 },
 "nbformat": 4,
 "nbformat_minor": 2
}
