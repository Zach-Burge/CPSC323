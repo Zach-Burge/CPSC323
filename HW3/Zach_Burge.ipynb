{
 "cells": [
  {
   "cell_type": "markdown",
   "metadata": {},
   "source": [
    "Zach Burge  \n",
    "CPSC 323  \n",
    "HW3 - Blocks World  \n",
    "Graham Morehead   "
   ]
  },
  {
   "cell_type": "code",
   "execution_count": 1,
   "metadata": {},
   "outputs": [
    {
     "name": "stdout",
     "output_type": "stream",
     "text": [
      "[ 2 ]\n",
      "[ 7 ]\n",
      "[ 1 ]\n",
      "[ ]\n",
      "[ 4 6 ]\n",
      "[ 3 ]\n",
      "[ 8 ]\n",
      "[ 5 ]\n",
      "\n"
     ]
    }
   ],
   "source": [
    "import datetime\n",
    "from game import Game\n",
    "blocks_world = Game(8)\n",
    "blocks_world.setup_blocks()\n",
    "blocks_world.show_grid()\n",
    "start_time = datetime.datetime.now()\n",
    "blocks_world.solve()\n",
    "end_time = datetime.datetime.now() - start_time\n",
    "print(\"Time elapsed to solve this blocks world:\", end_time, \"seconds\")\n",
    "blocks_world.show_grid()\n"
   ]
  }
 ],
 "metadata": {
  "kernelspec": {
   "display_name": "Python 3.10.6 64-bit",
   "language": "python",
   "name": "python3"
  },
  "language_info": {
   "codemirror_mode": {
    "name": "ipython",
    "version": 3
   },
   "file_extension": ".py",
   "mimetype": "text/x-python",
   "name": "python",
   "nbconvert_exporter": "python",
   "pygments_lexer": "ipython3",
   "version": "3.10.6"
  },
  "orig_nbformat": 4,
  "vscode": {
   "interpreter": {
    "hash": "aee8b7b246df8f9039afb4144a1f6fd8d2ca17a180786b69acc140d282b71a49"
   }
  }
 },
 "nbformat": 4,
 "nbformat_minor": 2
}
