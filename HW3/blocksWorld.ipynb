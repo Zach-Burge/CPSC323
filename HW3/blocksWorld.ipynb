{
 "cells": [
  {
   "cell_type": "code",
   "execution_count": 3,
   "metadata": {},
   "outputs": [
    {
     "name": "stdout",
     "output_type": "stream",
     "text": [
      "[ ]\n",
      "[ ]\n",
      "[ 3 ]\n",
      "[ 6 ]\n",
      "[ ]\n",
      "[ 1 4 5 7 ]\n",
      "[ 2 ]\n",
      "\n",
      "Blocks world solved in 12309615 moves!\n",
      "[ ]\n",
      "[ ]\n",
      "[ ]\n",
      "[ ]\n",
      "[ ]\n",
      "[ ]\n",
      "[ 1 2 3 4 5 6 7 ]\n",
      "\n"
     ]
    }
   ],
   "source": [
    "from game import Game\n",
    "blocks_world = Game(7)\n",
    "blocks_world.setup_blocks()\n",
    "blocks_world.show_grid()\n",
    "blocks_world.solve()\n",
    "blocks_world.show_grid()\n"
   ]
  }
 ],
 "metadata": {
  "kernelspec": {
   "display_name": "Python 3.10.6 64-bit",
   "language": "python",
   "name": "python3"
  },
  "language_info": {
   "codemirror_mode": {
    "name": "ipython",
    "version": 3
   },
   "file_extension": ".py",
   "mimetype": "text/x-python",
   "name": "python",
   "nbconvert_exporter": "python",
   "pygments_lexer": "ipython3",
   "version": "3.10.6"
  },
  "orig_nbformat": 4,
  "vscode": {
   "interpreter": {
    "hash": "aee8b7b246df8f9039afb4144a1f6fd8d2ca17a180786b69acc140d282b71a49"
   }
  }
 },
 "nbformat": 4,
 "nbformat_minor": 2
}
